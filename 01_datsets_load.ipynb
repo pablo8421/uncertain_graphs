{
 "cells": [
  {
   "cell_type": "code",
   "execution_count": 1,
   "id": "senior-reproduction",
   "metadata": {},
   "outputs": [],
   "source": [
    "import igraph as ig\n",
    "from igraph import Graph\n",
    "\n",
    "import pandas as pd\n",
    "import numpy as np\n",
    "import pickle\n",
    "\n",
    "#https://igraph.org/python/doc/api/igraph.Graph.html"
   ]
  },
  {
   "cell_type": "code",
   "execution_count": 2,
   "id": "adapted-waste",
   "metadata": {},
   "outputs": [],
   "source": [
    "# Function to generate vertices and edges from a dancer output file\n",
    "def read_dancer_file(filename):\n",
    "    # Read file line by line\n",
    "    with open(filename) as f:\n",
    "        content = f.readlines()\n",
    "    content = [x.strip() for x in content]\n",
    "\n",
    "    # Get vertices\n",
    "    vertices = content[1:content.index('#')]\n",
    "    vertices = [list(int(line.split(';')[i]) for i in [0,2]) for line in vertices]\n",
    "    vertices = pd.DataFrame(data=vertices, columns=['vertex', 'community'])\n",
    "\n",
    "    # Get edges\n",
    "    edges = content[content.index('# Edges')+1:]\n",
    "    edges = [sorted(list(int(x) for x in line.split(';'))) for line in edges]\n",
    "    edges = pd.DataFrame(data=edges, columns=['from', 'to'])\n",
    "    # Remove repeated edges (to make undirected)\n",
    "    edges = edges.drop_duplicates()\n",
    "    \n",
    "    return vertices, edges"
   ]
  },
  {
   "cell_type": "code",
   "execution_count": 33,
   "id": "offshore-divorce",
   "metadata": {},
   "outputs": [],
   "source": [
    "datasets_location = 'datasets/'\n",
    "datasets = []"
   ]
  },
  {
   "cell_type": "code",
   "execution_count": 34,
   "id": "dense-corner",
   "metadata": {},
   "outputs": [],
   "source": [
    "# Dancer 01\n",
    "dancer_01 = 'dancer_01/dancer_01.graph'\n",
    "dataset_name = 'Dancer 01'\n",
    "\n",
    "# Creating the graph\n",
    "vertices, edges = read_dancer_file(datasets_location+dancer_01)\n",
    "g = Graph.DataFrame(vertices=vertices, edges=edges, directed=False)\n",
    "\n",
    "#Remove if it had been added before\n",
    "for d in datasets:\n",
    "    if d['name'] == dataset_name:\n",
    "        datasets.remove(d)\n",
    "        break\n",
    "\n",
    "# Add to list of datasets\n",
    "datasets.append({'name': dataset_name,'vertices':vertices,'edges':edges,'graph':g})"
   ]
  },
  {
   "cell_type": "code",
   "execution_count": 35,
   "id": "demanding-quarter",
   "metadata": {},
   "outputs": [],
   "source": [
    "# Dancer 03\n",
    "dancer_03 = 'dancer_03/dancer_03.graph'\n",
    "dataset_name = 'Dancer 03'\n",
    "\n",
    "# Creating the graph\n",
    "vertices, edges = read_dancer_file(datasets_location+dancer_03)\n",
    "g = Graph.DataFrame(vertices=vertices, edges=edges, directed=False)\n",
    "\n",
    "#Remove if it had been added before\n",
    "for d in datasets:\n",
    "    if d['name'] == dataset_name:\n",
    "        datasets.remove(d)\n",
    "        break\n",
    "\n",
    "# Add to list of datasets\n",
    "datasets.append({'name': dataset_name,'vertices':vertices,'edges':edges,'graph':g})"
   ]
  },
  {
   "cell_type": "code",
   "execution_count": 66,
   "id": "decreased-payday",
   "metadata": {},
   "outputs": [],
   "source": [
    "# Cora\n",
    "#https://paperswithcode.com/dataset/cora\n",
    "\n",
    "cities_file = 'cora/cities.csv'\n",
    "labels_file = 'cora/labels.csv'\n",
    "dataset_name = 'Cora'\n",
    "\n",
    "cities = pd.read_csv(datasets_location+cities_file)\n",
    "labels = pd.read_csv(datasets_location+labels_file)\n",
    "\n",
    "vertices = labels[['paper','numeric']]\n",
    "vertices = vertices.rename(columns = {'paper':'vertex','numeric':'community'})\n",
    "\n",
    "edges = cities.rename(columns = {'V1':'from','V2':'to'})\n",
    "\n",
    "g = Graph.DataFrame(vertices=vertices, edges=edges, directed=False)\n",
    "g = g.simplify()\n",
    "\n",
    "#Remove if it had been added before\n",
    "for d in datasets:\n",
    "    if d['name'] == dataset_name:\n",
    "        datasets.remove(d)\n",
    "        break\n",
    "\n",
    "# Add to list of datasets\n",
    "datasets.append({'name': dataset_name,'vertices':vertices,'edges':edges,'graph':g})"
   ]
  },
  {
   "cell_type": "code",
   "execution_count": 67,
   "id": "third-international",
   "metadata": {},
   "outputs": [],
   "source": [
    "# EU Mails\n",
    "#http://snap.stanford.edu/data/email-Eu-core.html\n",
    "\n",
    "edges_file = 'email_eu/email-Eu-core.txt'\n",
    "labels_file = 'email_eu/email-Eu-core-department-labels.txt'\n",
    "dataset_name = 'Email EU'\n",
    "\n",
    "edges = pd.read_csv(datasets_location+edges_file, sep=' ', header=None)\n",
    "vertices = pd.read_csv(datasets_location+labels_file, sep=' ', header=None)\n",
    "\n",
    "vertices = vertices[[0,1]]\n",
    "vertices = vertices.rename(columns = {0:'vertex',1:'community'})\n",
    "\n",
    "edges = edges.rename(columns = {0:'from',1:'to'})\n",
    "\n",
    "g = Graph.DataFrame(vertices=vertices, edges=edges, directed=False)\n",
    "g = g.simplify()\n",
    "\n",
    "#Remove if it had been added before\n",
    "for d in datasets:\n",
    "    if d['name'] == dataset_name:\n",
    "        datasets.remove(d)\n",
    "        break\n",
    "\n",
    "# Add to list of datasets\n",
    "datasets.append({'name': dataset_name,'vertices':vertices,'edges':edges,'graph':g})"
   ]
  },
  {
   "cell_type": "code",
   "execution_count": 68,
   "id": "monetary-tablet",
   "metadata": {},
   "outputs": [
    {
     "data": {
      "text/plain": [
       "4"
      ]
     },
     "execution_count": 68,
     "metadata": {},
     "output_type": "execute_result"
    }
   ],
   "source": [
    "len(datasets)"
   ]
  },
  {
   "cell_type": "code",
   "execution_count": 69,
   "id": "driven-portrait",
   "metadata": {},
   "outputs": [],
   "source": [
    "# Outputing serialized datasets\n",
    "filename = 'datasets.data'\n",
    "\n",
    "# Writing file\n",
    "outfile = open(filename,'wb')\n",
    "pickle.dump(datasets,outfile)\n",
    "outfile.close()"
   ]
  }
 ],
 "metadata": {
  "kernelspec": {
   "display_name": "Python 3",
   "language": "python",
   "name": "python3"
  },
  "language_info": {
   "codemirror_mode": {
    "name": "ipython",
    "version": 3
   },
   "file_extension": ".py",
   "mimetype": "text/x-python",
   "name": "python",
   "nbconvert_exporter": "python",
   "pygments_lexer": "ipython3",
   "version": "3.9.2"
  }
 },
 "nbformat": 4,
 "nbformat_minor": 5
}
